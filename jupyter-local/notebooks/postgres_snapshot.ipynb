{
 "cells": [
  {
   "cell_type": "markdown",
   "metadata": {},
   "source": [
    "# Prepare driver"
   ]
  },
  {
   "cell_type": "code",
   "execution_count": null,
   "metadata": {},
   "outputs": [],
   "source": [
    "! wget -P /home/jovyan https://repo1.maven.org/maven2/org/postgresql/postgresql/42.2.5/postgresql-42.2.5.jar"
   ]
  },
  {
   "cell_type": "markdown",
   "metadata": {},
   "source": [
    "# Start spark application"
   ]
  },
  {
   "cell_type": "code",
   "execution_count": null,
   "metadata": {},
   "outputs": [],
   "source": [
    "import os\n",
    "os.environ['PYSPARK_SUBMIT_ARGS'] = '--driver-class-path /home/jovyan/postgresql-42.2.5.jar --jars /home/jovyan/postgresql-42.2.5.jar pyspark-shell'\n",
    "\n",
    "import pyspark\n",
    "\n",
    "spark = pyspark.sql.SparkSession.builder \\\n",
    "        .master(\"local[1]\") \\\n",
    "        .appName(\"snapshot\") \\\n",
    "        .getOrCreate()\n",
    "\n",
    "print(\"Application started\")"
   ]
  },
  {
   "cell_type": "markdown",
   "metadata": {},
   "source": [
    "# Warm-up spark"
   ]
  },
  {
   "cell_type": "code",
   "execution_count": null,
   "metadata": {},
   "outputs": [],
   "source": [
    "spark.sparkContext.range(1000).sum()\n",
    "print(\"Spark application is ready for work\")"
   ]
  },
  {
   "cell_type": "markdown",
   "metadata": {},
   "source": [
    "# Read some PostgreSQL Data"
   ]
  },
  {
   "cell_type": "code",
   "execution_count": null,
   "metadata": {},
   "outputs": [],
   "source": [
    "customers = spark.read.format('jdbc').options(\n",
    "        url = \"jdbc:postgresql://postgres:5432/postgres?user=postgres&password=postgres&currentSchema=inventory\",\n",
    "        database='postgres',\n",
    "        dbtable='customers'\n",
    "    ).load()\n",
    "\n",
    "products = spark.read.format('jdbc').options(\n",
    "        url = \"jdbc:postgresql://postgres:5432/postgres?user=postgres&password=postgres&currentSchema=inventory\",\n",
    "        database='postgres',\n",
    "        dbtable='products'\n",
    "    ).load()\n",
    "\n",
    "orders = spark.read.format('jdbc').options(\n",
    "        url = \"jdbc:postgresql://postgres:5432/postgres?user=postgres&password=postgres&currentSchema=inventory\",\n",
    "        database='postgres',\n",
    "        dbtable='orders'\n",
    "    ).load()\n",
    "\n",
    "customers.registerTempTable(\"customers\")\n",
    "products.registerTempTable(\"products\")\n",
    "orders.registerTempTable(\"orders\")\n",
    "\n",
    "print(\"Customers table\")\n",
    "customers.show(5)\n",
    "print(\"Orders table\")\n",
    "orders.show(5)\n",
    "print(\"Products table\")\n",
    "products.show(5)\n"
   ]
  },
  {
   "cell_type": "markdown",
   "metadata": {},
   "source": [
    "# Read and join the data"
   ]
  },
  {
   "cell_type": "code",
   "execution_count": null,
   "metadata": {},
   "outputs": [],
   "source": [
    "# please write your query here\n",
    "# Customers who have made and have not made purchases.\n",
    "\n",
    "query = \"\"\"SELECT c.id, c.first_name, c.last_name, Sum(o.quantity*p.weight) AS total_weight, current_timestamp() AS load_dttm\n",
    "FROM (customers AS c LEFT JOIN orders AS o ON c.id = o.purchaser) LEFT JOIN products AS p ON o.product_id = p.id\n",
    "GROUP BY c.id, c.first_name, c.last_name\n",
    "HAVING (c.id<=1005) ORDER BY c.id\"\"\"\n",
    "\n",
    "result = spark.sql(query)\n",
    "\n",
    "result.repartition(1).write.mode(\"OVERWRITE\").format(\"parquet\").save(\"/home/jovyan/weight_report\")"
   ]
  },
  {
   "cell_type": "code",
   "execution_count": null,
   "metadata": {},
   "outputs": [],
   "source": [
    "spark.read.format(\"parquet\").load(\"/home/jovyan/weight_report\").show(20, False)"
   ]
  },
  {
   "cell_type": "code",
   "execution_count": null,
   "metadata": {},
   "outputs": [],
   "source": [
    "spark.stop()"
   ]
  },
  {
   "cell_type": "code",
   "execution_count": null,
   "metadata": {},
   "outputs": [],
   "source": []
  }
 ],
 "metadata": {
  "kernelspec": {
   "display_name": "Python 3",
   "language": "python",
   "name": "python3"
  },
  "language_info": {
   "codemirror_mode": {
    "name": "ipython",
    "version": 3
   },
   "file_extension": ".py",
   "mimetype": "text/x-python",
   "name": "python",
   "nbconvert_exporter": "python",
   "pygments_lexer": "ipython3",
   "version": "3.7.6"
  }
 },
 "nbformat": 4,
 "nbformat_minor": 4
}
